{
 "cells": [
  {
   "cell_type": "code",
   "execution_count": 5,
   "metadata": {},
   "outputs": [],
   "source": [
    "import os\n",
    "\n",
    "import pandas as pd\n",
    "import numpy as np\n",
    "import imageio.v2 as imageio\n",
    "\n",
    "from graphviz import Digraph\n",
    "from IPython.display import Image"
   ]
  },
  {
   "cell_type": "code",
   "execution_count": 206,
   "metadata": {},
   "outputs": [
    {
     "data": {
      "text/html": [
       "<div>\n",
       "<style scoped>\n",
       "    .dataframe tbody tr th:only-of-type {\n",
       "        vertical-align: middle;\n",
       "    }\n",
       "\n",
       "    .dataframe tbody tr th {\n",
       "        vertical-align: top;\n",
       "    }\n",
       "\n",
       "    .dataframe thead th {\n",
       "        text-align: right;\n",
       "    }\n",
       "</style>\n",
       "<table border=\"1\" class=\"dataframe\">\n",
       "  <thead>\n",
       "    <tr style=\"text-align: right;\">\n",
       "      <th></th>\n",
       "      <th>NYC</th>\n",
       "      <th>Paris</th>\n",
       "      <th>Cairo</th>\n",
       "      <th>Seoul</th>\n",
       "    </tr>\n",
       "  </thead>\n",
       "  <tbody>\n",
       "    <tr>\n",
       "      <th>NYC</th>\n",
       "      <td>0.25</td>\n",
       "      <td>0.25</td>\n",
       "      <td>0.25</td>\n",
       "      <td>0.25</td>\n",
       "    </tr>\n",
       "    <tr>\n",
       "      <th>Paris</th>\n",
       "      <td>0.00</td>\n",
       "      <td>0.25</td>\n",
       "      <td>0.25</td>\n",
       "      <td>0.50</td>\n",
       "    </tr>\n",
       "    <tr>\n",
       "      <th>Cairo</th>\n",
       "      <td>0.75</td>\n",
       "      <td>0.00</td>\n",
       "      <td>0.25</td>\n",
       "      <td>0.00</td>\n",
       "    </tr>\n",
       "    <tr>\n",
       "      <th>Seoul</th>\n",
       "      <td>1.00</td>\n",
       "      <td>0.00</td>\n",
       "      <td>0.00</td>\n",
       "      <td>0.00</td>\n",
       "    </tr>\n",
       "  </tbody>\n",
       "</table>\n",
       "</div>"
      ],
      "text/plain": [
       "        NYC  Paris  Cairo  Seoul\n",
       "NYC    0.25   0.25   0.25   0.25\n",
       "Paris  0.00   0.25   0.25   0.50\n",
       "Cairo  0.75   0.00   0.25   0.00\n",
       "Seoul  1.00   0.00   0.00   0.00"
      ]
     },
     "execution_count": 206,
     "metadata": {},
     "output_type": "execute_result"
    }
   ],
   "source": [
    "mc_example = {'NYC': [.25,0,.75,1],\n",
    "              'Paris': [.25,.25,0,0],\n",
    "              'Cairo': [.25,.25,.25,0],\n",
    "              'Seoul': [.25,.5,0,0]}\n",
    "\n",
    "mc = pd.DataFrame(data = mc_example, index = ['NYC', 'Paris', 'Cairo', 'Seoul'])\n",
    "mc"
   ]
  },
  {
   "cell_type": "code",
   "execution_count": 212,
   "metadata": {},
   "outputs": [
    {
     "data": {
      "text/plain": [
       "Index(['NYC', 'Paris', 'Cairo', 'Seoul'], dtype='object')"
      ]
     },
     "execution_count": 212,
     "metadata": {},
     "output_type": "execute_result"
    }
   ],
   "source": [
    "mc.iloc[0].index"
   ]
  },
  {
   "cell_type": "code",
   "execution_count": 137,
   "metadata": {},
   "outputs": [
    {
     "data": {
      "text/plain": [
       "NYC      0.25\n",
       "Paris    0.25\n",
       "Cairo    0.25\n",
       "Seoul    0.25\n",
       "Name: NYC, dtype: float64"
      ]
     },
     "execution_count": 137,
     "metadata": {},
     "output_type": "execute_result"
    }
   ],
   "source": [
    "mc.iloc[0]"
   ]
  },
  {
   "cell_type": "code",
   "execution_count": 138,
   "metadata": {},
   "outputs": [
    {
     "data": {
      "text/plain": [
       "'Seoul'"
      ]
     },
     "execution_count": 138,
     "metadata": {},
     "output_type": "execute_result"
    }
   ],
   "source": [
    "np.random.choice(mc.iloc[0].index, p=mc.iloc[0])"
   ]
  },
  {
   "cell_type": "code",
   "execution_count": 139,
   "metadata": {},
   "outputs": [
    {
     "data": {
      "text/plain": [
       "1"
      ]
     },
     "execution_count": 139,
     "metadata": {},
     "output_type": "execute_result"
    }
   ],
   "source": [
    "mc.index.get_loc('Paris')"
   ]
  },
  {
   "cell_type": "code",
   "execution_count": 140,
   "metadata": {},
   "outputs": [
    {
     "data": {
      "text/plain": [
       "Index(['NYC', 'Paris', 'Cairo', 'Seoul'], dtype='object')"
      ]
     },
     "execution_count": 140,
     "metadata": {},
     "output_type": "execute_result"
    }
   ],
   "source": [
    "mc.iloc[mc.index.get_loc('Paris')].index"
   ]
  },
  {
   "cell_type": "code",
   "execution_count": 141,
   "metadata": {},
   "outputs": [
    {
     "data": {
      "text/plain": [
       "NYC      0.00\n",
       "Paris    0.25\n",
       "Cairo    0.25\n",
       "Seoul    0.50\n",
       "Name: Paris, dtype: float64"
      ]
     },
     "execution_count": 141,
     "metadata": {},
     "output_type": "execute_result"
    }
   ],
   "source": [
    "mc.iloc[mc.index.get_loc('Paris')]"
   ]
  },
  {
   "cell_type": "code",
   "execution_count": 142,
   "metadata": {},
   "outputs": [
    {
     "name": "stdout",
     "output_type": "stream",
     "text": [
      "first print ['Seoul', 'NYC']\n"
     ]
    },
    {
     "data": {
      "text/plain": [
       "['Seoul',\n",
       " 'NYC',\n",
       " 'NYC',\n",
       " 'NYC',\n",
       " 'Seoul',\n",
       " 'NYC',\n",
       " 'Seoul',\n",
       " 'NYC',\n",
       " 'NYC',\n",
       " 'Paris',\n",
       " 'Paris',\n",
       " 'Cairo',\n",
       " 'NYC',\n",
       " 'Paris',\n",
       " 'Paris',\n",
       " 'Seoul',\n",
       " 'NYC',\n",
       " 'NYC',\n",
       " 'NYC',\n",
       " 'NYC',\n",
       " 'Cairo',\n",
       " 'NYC',\n",
       " 'Cairo',\n",
       " 'NYC',\n",
       " 'NYC']"
      ]
     },
     "execution_count": 142,
     "metadata": {},
     "output_type": "execute_result"
    }
   ],
   "source": [
    "travel_sim = []\n",
    "\n",
    "# get row 0th, then get index of item 0th -> NYC\n",
    "city = mc.iloc[3].index[3]\n",
    "\n",
    "# append into travel_sim\n",
    "travel_sim.append(city)\n",
    "\n",
    "# get the next visited city randomly choice based on known probability\n",
    "travel_sim.append(np.random.choice(mc.iloc[0].index, # get index of row 0th\n",
    "                                   p=mc.iloc[0] # get probability of row 0th\n",
    "                                   ))\n",
    "print('first print', travel_sim)\n",
    "\n",
    "# get the next city using previous city probability\n",
    "while len(travel_sim)<25:\n",
    "    city = np.random.choice(mc.iloc[mc.index.get_loc(city)].index,\n",
    "                            p = mc.iloc[mc.index.get_loc(city)]\n",
    "                            )\n",
    "    travel_sim.append(city)\n",
    "travel_sim\n"
   ]
  },
  {
   "cell_type": "code",
   "execution_count": 143,
   "metadata": {},
   "outputs": [],
   "source": [
    "def matrix_power(matrix, power):\n",
    "  if power == 0:\n",
    "    return np.identity(len(matrix))\n",
    "  elif power == 1:\n",
    "    return matrix\n",
    "  else:\n",
    "    return np.dot(matrix, matrix_power(matrix, power-1))\n",
    "     "
   ]
  },
  {
   "cell_type": "code",
   "execution_count": 144,
   "metadata": {},
   "outputs": [
    {
     "data": {
      "text/plain": [
       "array([[0.5   , 0.125 , 0.1875, 0.1875],\n",
       "       [0.6875, 0.0625, 0.125 , 0.125 ],\n",
       "       [0.375 , 0.1875, 0.25  , 0.1875],\n",
       "       [0.25  , 0.25  , 0.25  , 0.25  ]])"
      ]
     },
     "execution_count": 144,
     "metadata": {},
     "output_type": "execute_result"
    }
   ],
   "source": [
    "matrix_power(mc.to_numpy(), 2)"
   ]
  },
  {
   "cell_type": "code",
   "execution_count": 145,
   "metadata": {},
   "outputs": [
    {
     "name": "stdout",
     "output_type": "stream",
     "text": [
      "[[0.5    0.125  0.1875 0.1875]\n",
      " [0.6875 0.0625 0.125  0.125 ]\n",
      " [0.375  0.1875 0.25   0.1875]\n",
      " [0.25   0.25   0.25   0.25  ]]\n"
     ]
    },
    {
     "data": {
      "text/plain": [
       "array([0.25, 0.25, 0.25, 0.25])"
      ]
     },
     "execution_count": 145,
     "metadata": {},
     "output_type": "execute_result"
    }
   ],
   "source": [
    "initial_dist = np.asarray([0,0,0,1])\n",
    "\n",
    "mc_p2 = matrix_power(mc.to_numpy(),2)\n",
    "print(mc_p2)\n",
    "np.dot(initial_dist,mc_p2)"
   ]
  },
  {
   "cell_type": "code",
   "execution_count": 338,
   "metadata": {},
   "outputs": [],
   "source": [
    "def baseline_data(region_list,\n",
    "                  remove_self_flight=False):\n",
    "    # create adjacency matrix\n",
    "    data = {}\n",
    "    region_count = len(region_list)\n",
    "    for i in region_list:\n",
    "        if remove_self_flight:\n",
    "            # to prevent self flight, the probability calculation\n",
    "            # can be done by 1/(region_count-1) and set the\n",
    "            # probability of self flight to 0\n",
    "            data[i] = [1/(region_count-1)]*region_count\n",
    "            data[i][region_list.index(i)] = 0\n",
    "        else:\n",
    "            # to accomodate self flight, the probability calculation\n",
    "            # will be same on all nodes\n",
    "            data[i] = [1/region_count]*region_count\n",
    "    \n",
    "    # convert matrix to dataframe\n",
    "    df = pd.DataFrame(data = data,\n",
    "                      index = [*data]) #list of data keys\n",
    "    df = df.round(2)\n",
    "    return df\n",
    "\n",
    "def block_nodes(df, \n",
    "                node_1=None, \n",
    "                node_2=None, \n",
    "                remove_self_flight=False):\n",
    "    if node_1 == None and node_2 == None:\n",
    "        pass\n",
    "    else:\n",
    "        # set edge between node_1 and node_2 to 0\n",
    "        df.at[node_1, node_2] = 0\n",
    "        df.at[node_2, node_1] = 0\n",
    "        \n",
    "        # get node index loc\n",
    "        node_1_idx = df.index.get_loc(node_1)\n",
    "        node_2_idx = df.index.get_loc(node_2)\n",
    "        \n",
    "        # region count\n",
    "        region_list = df.index.to_list()\n",
    "        region_count = len(region_list)\n",
    "        \n",
    "        # re-calculate other edge values\n",
    "        if remove_self_flight:\n",
    "            # to prevent self flight, the probability calculation\n",
    "            # can be done by 1/(region_count-2);\n",
    "            # Notes: (-1 for removing self flight and another -1 for removing blocked node] and set the\n",
    "            # probability of self flight to 0\n",
    "            node_1_prob_list = [1/(region_count-2)]*region_count\n",
    "            node_1_prob_list[region_list.index(node_1)] = 0\n",
    "            node_2_prob_list = [1/(region_count-2)]*region_count\n",
    "            node_2_prob_list[region_list.index(node_2)] = 0\n",
    "        else:\n",
    "            node_1_prob_list = [1/(region_count-1)]*region_count\n",
    "            node_2_prob_list = [1/(region_count-1)]*region_count\n",
    "        \n",
    "        \n",
    "        node_1_prob_list[node_2_idx] = 0\n",
    "        df.loc[df.index == node_1, region_list] = node_1_prob_list\n",
    "        \n",
    "        node_2_prob_list[node_1_idx] = 0\n",
    "        df.loc[df.index == node_2, region_list] = node_2_prob_list\n",
    "    df = df.round(2)\n",
    "    return df\n",
    "\n",
    "def preprocess_data(df):\n",
    "    # convert adjacency matrix into edgelist table\n",
    "    df = df.rename_axis('source')\\\n",
    "            .reset_index()\\\n",
    "            .melt('source', value_name='weight', var_name='target')\\\n",
    "            .reset_index(drop=True)\n",
    "    return df\n",
    "\n",
    "# Input data from dataframe into graph network\n",
    "def create_graph_network(df,\n",
    "                         colored):\n",
    "    # Declare Graph Network Template\n",
    "    G = Digraph(format='jpeg')\n",
    "    G.attr(rankdir='LR', size='8,5')\n",
    "    G.attr('node', shape='circle')\n",
    "    \n",
    "    nodelist = []\n",
    "    for _, row in df.iterrows():\n",
    "        node1, node2, weight = [str(i) for i in row]\n",
    "        if float(weight) == 0.0:\n",
    "            continue\n",
    "        else:\n",
    "            \n",
    "            if node1 not in nodelist:\n",
    "                if node1 == colored:\n",
    "                    G.node(node1, style='filled', fillcolor='#40e0d0')\n",
    "                else:\n",
    "                    G.node(node1)\n",
    "                nodelist.append(node1)\n",
    "            if node2 not in nodelist:\n",
    "                if node2 == colored:\n",
    "                    G.node(node2, style='filled', fillcolor='#40e0d0')\n",
    "                else:\n",
    "                    G.node(node2)\n",
    "                nodelist.append(node2)\n",
    "\n",
    "            G.edge(node1,node2, label = weight)\n",
    "    \n",
    "    # render graph and save as image\n",
    "    fname = f'./markov_chain_{colored}'\n",
    "    G.render(fname, view=False)\n",
    "    save_as = f'{fname}.jpeg'\n",
    "    return save_as\n",
    "\n",
    "def generate_gif(png_dir = './',\n",
    "                 save_as = './markov_chain.gif',\n",
    "                 duration=1000):\n",
    "    images = []\n",
    "    for file_name in sorted(os.listdir(png_dir)):\n",
    "        if file_name.endswith('.jpeg') and not file_name.endswith('_None.jpeg'):\n",
    "            file_path = os.path.join(png_dir, file_name)\n",
    "            images.append(imageio.imread(file_path))\n",
    "    imageio.mimsave(save_as, images, 'GIF', duration=duration)\n",
    "    return save_as\n",
    "\n",
    "def clear_all_generated_files():\n",
    "    mydir = './'\n",
    "    filelist = [ f for f in os.listdir(mydir) if f.startswith(\"markov_chain\") ]\n",
    "    for f in filelist:\n",
    "        os.remove(os.path.join(mydir, f))\n",
    "    return None"
   ]
  },
  {
   "cell_type": "code",
   "execution_count": 344,
   "metadata": {},
   "outputs": [
    {
     "name": "stdout",
     "output_type": "stream",
     "text": [
      "BASELINE MATRIX \n",
      "           Ttukseom  Gunja  Wangsimni  Dapsimni\n",
      "Ttukseom       0.00   0.33       0.33      0.33\n",
      "Gunja          0.33   0.00       0.33      0.33\n",
      "Wangsimni      0.33   0.33       0.00      0.33\n",
      "Dapsimni       0.33   0.33       0.33      0.00\n",
      "\n",
      " BLOCKED MATRIX BETWEEN Wangsimni AND Dapsimni\n",
      "           Ttukseom  Gunja  Wangsimni  Dapsimni\n",
      "Ttukseom       0.00   0.33       0.33      0.33\n",
      "Gunja          0.33   0.00       0.33      0.33\n",
      "Wangsimni      0.50   0.50       0.00      0.00\n",
      "Dapsimni       0.50   0.50       0.00      0.00\n"
     ]
    }
   ],
   "source": [
    "# clear previous  all generated files\n",
    "clear_all_generated_files()\n",
    "\n",
    "# declare matrix\n",
    "region_list = ['Ttukseom', 'Gunja', 'Wangsimni', 'Dapsimni']\n",
    "remove_self_flight = True\n",
    "base_df = baseline_data(region_list, remove_self_flight)\n",
    "\n",
    "print('BASELINE MATRIX ')\n",
    "print(base_df)\n",
    "base_img = create_graph_network(preprocess_data(base_df),colored=None)\n",
    "\n",
    "# block nodes\n",
    "node_1 = 'Wangsimni'\n",
    "node_2 = 'Dapsimni'\n",
    "blocked_df = block_nodes(base_df, node_1, node_2,remove_self_flight)\n",
    "print(f'\\n BLOCKED MATRIX BETWEEN {node_1} AND {node_2}')\n",
    "print(blocked_df)\n",
    "\n",
    "# preprocess data\n",
    "prep_blocked_df = preprocess_data(blocked_df)\n",
    "\n",
    "# render graph network\n",
    "colored_list = ['']\n",
    "for i in colored_list:\n",
    "    save_as = create_graph_network(prep_blocked_df, i)\n",
    "\n",
    "# generate gif\n",
    "gif_img = generate_gif()"
   ]
  },
  {
   "cell_type": "code",
   "execution_count": 345,
   "metadata": {},
   "outputs": [
    {
     "data": {
      "image/jpeg": "[encoded data removed]",
      "text/plain": [
       "<IPython.core.display.Image object>"
      ]
     },
     "execution_count": 345,
     "metadata": {},
     "output_type": "execute_result"
    }
   ],
   "source": [
    "Image(base_img)"
   ]
  },
  {
   "cell_type": "code",
   "execution_count": 346,
   "metadata": {},
   "outputs": [
    {
     "data": {
      "image/gif": "[encoded data removed]",
      "text/plain": [
       "<IPython.core.display.Image object>"
      ]
     },
     "execution_count": 346,
     "metadata": {},
     "output_type": "execute_result"
    }
   ],
   "source": [
    "Image(gif_img)"
   ]
  },
  {
   "cell_type": "code",
   "execution_count": null,
   "metadata": {},
   "outputs": [],
   "source": []
  }
 ],
 "metadata": {
  "kernelspec": {
   "display_name": "Python 3",
   "language": "python",
   "name": "python3"
  },
  "language_info": {
   "codemirror_mode": {
    "name": "ipython",
    "version": 3
   },
   "file_extension": ".py",
   "mimetype": "text/x-python",
   "name": "python",
   "nbconvert_exporter": "python",
   "pygments_lexer": "ipython3",
   "version": "3.10.10"
  },
  "orig_nbformat": 4
 },
 "nbformat": 4,
 "nbformat_minor": 2
}
