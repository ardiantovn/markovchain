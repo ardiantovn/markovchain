{
 "cells": [
  {
   "cell_type": "code",
   "execution_count": 5,
   "metadata": {},
   "outputs": [],
   "source": [
    "import pandas as pd\n",
    "import numpy as np"
   ]
  },
  {
   "cell_type": "code",
   "execution_count": 135,
   "metadata": {},
   "outputs": [
    {
     "data": {
      "text/html": [
       "<div>\n",
       "<style scoped>\n",
       "    .dataframe tbody tr th:only-of-type {\n",
       "        vertical-align: middle;\n",
       "    }\n",
       "\n",
       "    .dataframe tbody tr th {\n",
       "        vertical-align: top;\n",
       "    }\n",
       "\n",
       "    .dataframe thead th {\n",
       "        text-align: right;\n",
       "    }\n",
       "</style>\n",
       "<table border=\"1\" class=\"dataframe\">\n",
       "  <thead>\n",
       "    <tr style=\"text-align: right;\">\n",
       "      <th></th>\n",
       "      <th>NYC</th>\n",
       "      <th>Paris</th>\n",
       "      <th>Cairo</th>\n",
       "      <th>Seoul</th>\n",
       "    </tr>\n",
       "  </thead>\n",
       "  <tbody>\n",
       "    <tr>\n",
       "      <th>NYC</th>\n",
       "      <td>0.25</td>\n",
       "      <td>0.25</td>\n",
       "      <td>0.25</td>\n",
       "      <td>0.25</td>\n",
       "    </tr>\n",
       "    <tr>\n",
       "      <th>Paris</th>\n",
       "      <td>0.00</td>\n",
       "      <td>0.25</td>\n",
       "      <td>0.25</td>\n",
       "      <td>0.50</td>\n",
       "    </tr>\n",
       "    <tr>\n",
       "      <th>Cairo</th>\n",
       "      <td>0.75</td>\n",
       "      <td>0.00</td>\n",
       "      <td>0.25</td>\n",
       "      <td>0.00</td>\n",
       "    </tr>\n",
       "    <tr>\n",
       "      <th>Seoul</th>\n",
       "      <td>1.00</td>\n",
       "      <td>0.00</td>\n",
       "      <td>0.00</td>\n",
       "      <td>0.00</td>\n",
       "    </tr>\n",
       "  </tbody>\n",
       "</table>\n",
       "</div>"
      ],
      "text/plain": [
       "        NYC  Paris  Cairo  Seoul\n",
       "NYC    0.25   0.25   0.25   0.25\n",
       "Paris  0.00   0.25   0.25   0.50\n",
       "Cairo  0.75   0.00   0.25   0.00\n",
       "Seoul  1.00   0.00   0.00   0.00"
      ]
     },
     "execution_count": 135,
     "metadata": {},
     "output_type": "execute_result"
    }
   ],
   "source": [
    "mc_example = {'NYC': [.25,0,.75,1],\n",
    "              'Paris': [.25,.25,0,0],\n",
    "              'Cairo': [.25,.25,.25,0],\n",
    "              'Seoul': [.25,.5,0,0]}\n",
    "\n",
    "mc = pd.DataFrame(data = mc_example, index = ['NYC', 'Paris', 'Cairo', 'Seoul'])\n",
    "mc"
   ]
  },
  {
   "cell_type": "code",
   "execution_count": 136,
   "metadata": {},
   "outputs": [
    {
     "data": {
      "text/plain": [
       "Index(['NYC', 'Paris', 'Cairo', 'Seoul'], dtype='object')"
      ]
     },
     "execution_count": 136,
     "metadata": {},
     "output_type": "execute_result"
    }
   ],
   "source": [
    "mc.iloc[0].index"
   ]
  },
  {
   "cell_type": "code",
   "execution_count": 137,
   "metadata": {},
   "outputs": [
    {
     "data": {
      "text/plain": [
       "NYC      0.25\n",
       "Paris    0.25\n",
       "Cairo    0.25\n",
       "Seoul    0.25\n",
       "Name: NYC, dtype: float64"
      ]
     },
     "execution_count": 137,
     "metadata": {},
     "output_type": "execute_result"
    }
   ],
   "source": [
    "mc.iloc[0]"
   ]
  },
  {
   "cell_type": "code",
   "execution_count": 138,
   "metadata": {},
   "outputs": [
    {
     "data": {
      "text/plain": [
       "'Seoul'"
      ]
     },
     "execution_count": 138,
     "metadata": {},
     "output_type": "execute_result"
    }
   ],
   "source": [
    "np.random.choice(mc.iloc[0].index, p=mc.iloc[0])"
   ]
  },
  {
   "cell_type": "code",
   "execution_count": 139,
   "metadata": {},
   "outputs": [
    {
     "data": {
      "text/plain": [
       "1"
      ]
     },
     "execution_count": 139,
     "metadata": {},
     "output_type": "execute_result"
    }
   ],
   "source": [
    "mc.index.get_loc('Paris')"
   ]
  },
  {
   "cell_type": "code",
   "execution_count": 140,
   "metadata": {},
   "outputs": [
    {
     "data": {
      "text/plain": [
       "Index(['NYC', 'Paris', 'Cairo', 'Seoul'], dtype='object')"
      ]
     },
     "execution_count": 140,
     "metadata": {},
     "output_type": "execute_result"
    }
   ],
   "source": [
    "mc.iloc[mc.index.get_loc('Paris')].index"
   ]
  },
  {
   "cell_type": "code",
   "execution_count": 141,
   "metadata": {},
   "outputs": [
    {
     "data": {
      "text/plain": [
       "NYC      0.00\n",
       "Paris    0.25\n",
       "Cairo    0.25\n",
       "Seoul    0.50\n",
       "Name: Paris, dtype: float64"
      ]
     },
     "execution_count": 141,
     "metadata": {},
     "output_type": "execute_result"
    }
   ],
   "source": [
    "mc.iloc[mc.index.get_loc('Paris')]"
   ]
  },
  {
   "cell_type": "code",
   "execution_count": 142,
   "metadata": {},
   "outputs": [
    {
     "name": "stdout",
     "output_type": "stream",
     "text": [
      "first print ['Seoul', 'NYC']\n"
     ]
    },
    {
     "data": {
      "text/plain": [
       "['Seoul',\n",
       " 'NYC',\n",
       " 'NYC',\n",
       " 'NYC',\n",
       " 'Seoul',\n",
       " 'NYC',\n",
       " 'Seoul',\n",
       " 'NYC',\n",
       " 'NYC',\n",
       " 'Paris',\n",
       " 'Paris',\n",
       " 'Cairo',\n",
       " 'NYC',\n",
       " 'Paris',\n",
       " 'Paris',\n",
       " 'Seoul',\n",
       " 'NYC',\n",
       " 'NYC',\n",
       " 'NYC',\n",
       " 'NYC',\n",
       " 'Cairo',\n",
       " 'NYC',\n",
       " 'Cairo',\n",
       " 'NYC',\n",
       " 'NYC']"
      ]
     },
     "execution_count": 142,
     "metadata": {},
     "output_type": "execute_result"
    }
   ],
   "source": [
    "travel_sim = []\n",
    "\n",
    "# get row 0th, then get index of item 0th -> NYC\n",
    "city = mc.iloc[3].index[3]\n",
    "\n",
    "# append into travel_sim\n",
    "travel_sim.append(city)\n",
    "\n",
    "# get the next visited city randomly choice based on known probability\n",
    "travel_sim.append(np.random.choice(mc.iloc[0].index, # get index of row 0th\n",
    "                                   p=mc.iloc[0] # get probability of row 0th\n",
    "                                   ))\n",
    "print('first print', travel_sim)\n",
    "\n",
    "# get the next city using previous city probability\n",
    "while len(travel_sim)<25:\n",
    "    city = np.random.choice(mc.iloc[mc.index.get_loc(city)].index,\n",
    "                            p = mc.iloc[mc.index.get_loc(city)]\n",
    "                            )\n",
    "    travel_sim.append(city)\n",
    "travel_sim\n"
   ]
  },
  {
   "cell_type": "code",
   "execution_count": 143,
   "metadata": {},
   "outputs": [],
   "source": [
    "def matrix_power(matrix, power):\n",
    "  if power == 0:\n",
    "    return np.identity(len(matrix))\n",
    "  elif power == 1:\n",
    "    return matrix\n",
    "  else:\n",
    "    return np.dot(matrix, matrix_power(matrix, power-1))\n",
    "     "
   ]
  },
  {
   "cell_type": "code",
   "execution_count": 144,
   "metadata": {},
   "outputs": [
    {
     "data": {
      "text/plain": [
       "array([[0.5   , 0.125 , 0.1875, 0.1875],\n",
       "       [0.6875, 0.0625, 0.125 , 0.125 ],\n",
       "       [0.375 , 0.1875, 0.25  , 0.1875],\n",
       "       [0.25  , 0.25  , 0.25  , 0.25  ]])"
      ]
     },
     "execution_count": 144,
     "metadata": {},
     "output_type": "execute_result"
    }
   ],
   "source": [
    "matrix_power(mc.to_numpy(), 2)"
   ]
  },
  {
   "cell_type": "code",
   "execution_count": 145,
   "metadata": {},
   "outputs": [
    {
     "name": "stdout",
     "output_type": "stream",
     "text": [
      "[[0.5    0.125  0.1875 0.1875]\n",
      " [0.6875 0.0625 0.125  0.125 ]\n",
      " [0.375  0.1875 0.25   0.1875]\n",
      " [0.25   0.25   0.25   0.25  ]]\n"
     ]
    },
    {
     "data": {
      "text/plain": [
       "array([0.25, 0.25, 0.25, 0.25])"
      ]
     },
     "execution_count": 145,
     "metadata": {},
     "output_type": "execute_result"
    }
   ],
   "source": [
    "initial_dist = np.asarray([0,0,0,1])\n",
    "\n",
    "mc_p2 = matrix_power(mc.to_numpy(),2)\n",
    "print(mc_p2)\n",
    "np.dot(initial_dist,mc_p2)"
   ]
  },
  {
   "cell_type": "code",
   "execution_count": 148,
   "metadata": {},
   "outputs": [
    {
     "name": "stdout",
     "output_type": "stream",
     "text": [
      "16\n"
     ]
    },
    {
     "data": {
      "image/jpeg": "[encoded data removed]",
      "text/plain": [
       "<IPython.core.display.Image object>"
      ]
     },
     "execution_count": 148,
     "metadata": {},
     "output_type": "execute_result"
    }
   ],
   "source": [
    "import networkx as nx\n",
    "from graphviz import Digraph\n",
    "import pandas as pd\n",
    "from IPython.display import Image\n",
    "\n",
    "df = mc.rename_axis('source')\\\n",
    "            .reset_index()\\\n",
    "            .melt('source', value_name='weight', var_name='target')\\\n",
    "            .reset_index(drop=True)\n",
    "\n",
    "G = Digraph(format='jpeg')\n",
    "\n",
    "G.attr(rankdir='LR', size='8,5')\n",
    "G.attr('node', shape='circle')\n",
    "\n",
    "nodelist = []\n",
    "print(len(df))\n",
    "for idx, row in df.iterrows():\n",
    "    node1, node2, weight = [str(i) for i in row]\n",
    "    \n",
    "    if float(weight) == 0.0:\n",
    "        continue\n",
    "    else:\n",
    "        if node1 not in nodelist:\n",
    "            G.node(node1)\n",
    "            nodelist.append(node2)\n",
    "        if node2 not in nodelist:\n",
    "            G.node(node2)\n",
    "            nodelist.append(node2)\n",
    "\n",
    "        G.edge(node1,node2, label = weight)\n",
    "\n",
    "fname = './sg'\n",
    "G.render(fname, view=False)\n",
    "Image(fname+'.jpeg')"
   ]
  }
 ],
 "metadata": {
  "kernelspec": {
   "display_name": "Python 3",
   "language": "python",
   "name": "python3"
  },
  "language_info": {
   "codemirror_mode": {
    "name": "ipython",
    "version": 3
   },
   "file_extension": ".py",
   "mimetype": "text/x-python",
   "name": "python",
   "nbconvert_exporter": "python",
   "pygments_lexer": "ipython3",
   "version": "3.10.10"
  },
  "orig_nbformat": 4
 },
 "nbformat": 4,
 "nbformat_minor": 2
}
